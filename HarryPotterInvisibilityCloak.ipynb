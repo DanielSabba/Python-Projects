{
 "cells": [
  {
   "cell_type": "code",
   "execution_count": 1,
   "metadata": {},
   "outputs": [],
   "source": [
    "import cv2\n",
    "import numpy as np\n",
    "import matplotlib.pyplot as plt\n",
    "from PIL import Image"
   ]
  },
  {
   "cell_type": "code",
   "execution_count": 22,
   "metadata": {},
   "outputs": [],
   "source": [
    "cap = cv2.VideoCapture(0)\n",
    "#outVID = cv2.VideoWriter('ELital2.avi', -1, 20.0, (640, 480))\n",
    "\n",
    "# define range of green color in HSV\n",
    "lower_green = np.array([25,40,40])\n",
    "upper_green = np.array([70,255,255])\n",
    "\n",
    "ret, clean_frame = cap.read()\n",
    "while True:\n",
    "    ret, frame = cap.read() # read next frame\n",
    "    if ret==True:\n",
    "        frame_hsv = cv2.cvtColor(frame,cv2.COLOR_BGR2HSV)\n",
    "        \n",
    "        mask = cv2.inRange(frame_hsv, lower_green, upper_green)\n",
    "        \n",
    "        mask_flip = cv2.bitwise_not(mask)\n",
    "        #making a 3d mask so i could work with np.where\n",
    "        mask_3d = np.zeros(frame.shape)\n",
    "        mask_3d[:,:,0] = mask\n",
    "        mask_3d[:,:,1] = mask\n",
    "        mask_3d[:,:,2] = mask\n",
    "        mask_3d.shape\n",
    "        \n",
    "        final = np.where(mask_3d==0, frame,clean_frame)\n",
    "\n",
    "        outVID.write(final)\n",
    "        cv2.imshow('Real Frame', frame)\n",
    "        cv2.imshow('Where Magic Happends', final)\n",
    "                \n",
    "        if (cv2.waitKey(1) & 0xff == 27): # ESC key pressed?\n",
    "            break\n",
    "    else:\n",
    "        break\n",
    "\n",
    "cap.release() # release input video\n",
    "#outVID.release()\n",
    "cv2.destroyAllWindows() # delete output window\n",
    "cv2.waitKey(1);"
   ]
  }
 ],
 "metadata": {
  "kernelspec": {
   "display_name": "Python 3",
   "language": "python",
   "name": "python3"
  },
  "language_info": {
   "codemirror_mode": {
    "name": "ipython",
    "version": 3
   },
   "file_extension": ".py",
   "mimetype": "text/x-python",
   "name": "python",
   "nbconvert_exporter": "python",
   "pygments_lexer": "ipython3",
   "version": "3.7.4"
  }
 },
 "nbformat": 4,
 "nbformat_minor": 2
}
